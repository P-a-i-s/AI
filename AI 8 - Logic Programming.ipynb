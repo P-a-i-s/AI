{
 "cells": [
  {
   "cell_type": "code",
   "execution_count": 1,
   "metadata": {
    "collapsed": true
   },
   "outputs": [],
   "source": [
    "#Kanren is for logic and relational programming\n",
    "from kanren import run, var, fact, membero, conde, Relation, facts"
   ]
  },
  {
   "cell_type": "code",
   "execution_count": 2,
   "metadata": {
    "collapsed": true
   },
   "outputs": [],
   "source": [
    "import kanren.assoccomm as la"
   ]
  },
  {
   "cell_type": "code",
   "execution_count": 4,
   "metadata": {
    "collapsed": true
   },
   "outputs": [],
   "source": [
    "# Define mathematical operations \n",
    "add = 'addition' \n",
    "mul = 'multiplication'"
   ]
  },
  {
   "cell_type": "code",
   "execution_count": 5,
   "metadata": {},
   "outputs": [],
   "source": [
    "#Declare that these ops are commutative\n",
    "#using fact systems\n",
    "fact(la.commutative, mul)\n",
    "fact(la.commutative, add) \n",
    "fact(la.associative, mul) \n",
    "fact(la.associative, add)"
   ]
  },
  {
   "cell_type": "code",
   "execution_count": 6,
   "metadata": {
    "collapsed": true
   },
   "outputs": [],
   "source": [
    "# Define some variables \n",
    "a, b, c = var('a'), var('b'), var('c')"
   ]
  },
  {
   "cell_type": "markdown",
   "metadata": {},
   "source": [
    "- expression_orig = 3 x (-2) + (1 + 2 x 3) x (-1)\n",
    "- expression1 = (1 + 2 x a) x b + 3 x c\n",
    "- expression2 = c x 3 + b x (2 x a + 1)\n",
    "- expression3 = (((2 x a) x b) + b) + 3 x c"
   ]
  },
  {
   "cell_type": "code",
   "execution_count": 9,
   "metadata": {
    "collapsed": true
   },
   "outputs": [],
   "source": [
    "expression_orig = (add, (mul, 3, -2), (mul, (add, 1, (mul, 2, 3)), -1)) \n",
    "expression1 = (add, (mul, (add, 1, (mul, 2, a)), b), (mul, 3, c)) \n",
    "expression2 = (add, (mul, c, 3), (mul, b, (add, (mul, 2, a), 1))) \n",
    "expression3 = (add, (add, (mul, (mul, 2, a), b), b), (mul, 3, c))"
   ]
  },
  {
   "cell_type": "code",
   "execution_count": 10,
   "metadata": {},
   "outputs": [
    {
     "name": "stdout",
     "output_type": "stream",
     "text": [
      "((3, -1, -2),)\n"
     ]
    }
   ],
   "source": [
    "print(run(0, (a, b, c), la.eq_assoccomm(expression1, expression_orig)))"
   ]
  },
  {
   "cell_type": "code",
   "execution_count": 11,
   "metadata": {
    "collapsed": true
   },
   "outputs": [],
   "source": [
    "import kanren.core as lc"
   ]
  },
  {
   "cell_type": "code",
   "execution_count": 12,
   "metadata": {
    "collapsed": true
   },
   "outputs": [],
   "source": [
    "from sympy.ntheory.generate import prime, isprime"
   ]
  },
  {
   "cell_type": "code",
   "execution_count": 13,
   "metadata": {
    "collapsed": true
   },
   "outputs": [],
   "source": [
    "# Check if the elements of x are prime  \n",
    "def check_prime(x): \n",
    "    if lc.isvar(x): \n",
    "        return lc.condeseq([(lc.eq, x, p)] for p in map(prime, it.count(1))) \n",
    "    else: \n",
    "        return lc.success if isprime(x) else lc.fail"
   ]
  },
  {
   "cell_type": "code",
   "execution_count": 14,
   "metadata": {},
   "outputs": [
    {
     "name": "stdout",
     "output_type": "stream",
     "text": [
      "Help on function success in module kanren.core:\n",
      "\n",
      "success(s)\n",
      "\n"
     ]
    }
   ],
   "source": [
    "help(lc.success)"
   ]
  },
  {
   "cell_type": "code",
   "execution_count": 15,
   "metadata": {
    "collapsed": true
   },
   "outputs": [],
   "source": [
    "list_nums = (23, 4, 27, 17, 13, 10, 21, 29, 3, 32, 11, 19)"
   ]
  },
  {
   "cell_type": "code",
   "execution_count": 16,
   "metadata": {
    "collapsed": true
   },
   "outputs": [],
   "source": [
    "# Declae the variable \n",
    "x = lc.var()"
   ]
  },
  {
   "cell_type": "code",
   "execution_count": 17,
   "metadata": {
    "collapsed": true
   },
   "outputs": [],
   "source": [
    "# Check if 'x' is the parent of 'y' \n",
    "def parent(x, y): \n",
    "    return conde([father(x, y)], [mother(x, y)])"
   ]
  },
  {
   "cell_type": "code",
   "execution_count": 18,
   "metadata": {},
   "outputs": [
    {
     "name": "stdout",
     "output_type": "stream",
     "text": [
      "Help on function conde in module kanren.core:\n",
      "\n",
      "conde(*goalseqs)\n",
      "    Logical cond\n",
      "    \n",
      "    Goal constructor to provides logical AND and OR\n",
      "    \n",
      "    conde((A, B, C), (D, E)) means (A and B and C) or (D and E)\n",
      "    Equivalent to the (A, B, C); (D, E) syntax in Prolog.\n",
      "    \n",
      "    See Also:\n",
      "        lall - logical all\n",
      "        lany - logical any\n",
      "\n"
     ]
    }
   ],
   "source": [
    "help(conde)"
   ]
  },
  {
   "cell_type": "code",
   "execution_count": 19,
   "metadata": {
    "collapsed": true
   },
   "outputs": [],
   "source": [
    "import json"
   ]
  },
  {
   "cell_type": "code",
   "execution_count": 20,
   "metadata": {
    "collapsed": true
   },
   "outputs": [],
   "source": [
    "# Check if 'x' is the parent of 'y' \n",
    "def parent(x, y): \n",
    "    return conde([father(x, y)], [mother(x, y)])"
   ]
  },
  {
   "cell_type": "code",
   "execution_count": 21,
   "metadata": {
    "collapsed": true
   },
   "outputs": [],
   "source": [
    "# Check if 'x' is the grandparent of 'y' \n",
    "def grandparent(x, y): \n",
    "    temp = var() \n",
    "    return conde((parent(x, temp), parent(temp, y)))"
   ]
  },
  {
   "cell_type": "code",
   "execution_count": 22,
   "metadata": {
    "collapsed": true
   },
   "outputs": [],
   "source": [
    "# Check for sibling relationship between 'a' and 'b'   \n",
    "def sibling(x, y): \n",
    "    temp = var() \n",
    "    return conde((parent(temp, x), parent(temp, y)))"
   ]
  },
  {
   "cell_type": "code",
   "execution_count": 23,
   "metadata": {
    "collapsed": true
   },
   "outputs": [],
   "source": [
    "# Check if x is y's uncle \n",
    "def uncle(x, y): \n",
    "    temp = var() \n",
    "    return conde((father(temp, x), grandparent(temp, y)))"
   ]
  },
  {
   "cell_type": "code",
   "execution_count": 24,
   "metadata": {
    "collapsed": true
   },
   "outputs": [],
   "source": [
    "if __name__=='__main__': \n",
    "    father = Relation() \n",
    "    mother = Relation()"
   ]
  },
  {
   "cell_type": "code",
   "execution_count": 27,
   "metadata": {},
   "outputs": [
    {
     "ename": "FileNotFoundError",
     "evalue": "[Errno 2] No such file or directory: 'relationships.json.html'",
     "output_type": "error",
     "traceback": [
      "\u001b[0;31m---------------------------------------------------------------------------\u001b[0m",
      "\u001b[0;31mFileNotFoundError\u001b[0m                         Traceback (most recent call last)",
      "\u001b[0;32m<ipython-input-27-3a3a8b3f8e46>\u001b[0m in \u001b[0;36m<module>\u001b[0;34m()\u001b[0m\n\u001b[0;32m----> 1\u001b[0;31m \u001b[0;32mwith\u001b[0m \u001b[0mopen\u001b[0m\u001b[0;34m(\u001b[0m\u001b[0;34m'relationships.json.html'\u001b[0m\u001b[0;34m)\u001b[0m \u001b[0;32mas\u001b[0m \u001b[0mf\u001b[0m\u001b[0;34m:\u001b[0m\u001b[0;34m\u001b[0m\u001b[0m\n\u001b[0m\u001b[1;32m      2\u001b[0m         \u001b[0md\u001b[0m \u001b[0;34m=\u001b[0m \u001b[0mjson\u001b[0m\u001b[0;34m.\u001b[0m\u001b[0mloads\u001b[0m\u001b[0;34m(\u001b[0m\u001b[0mf\u001b[0m\u001b[0;34m.\u001b[0m\u001b[0mread\u001b[0m\u001b[0;34m(\u001b[0m\u001b[0;34m)\u001b[0m\u001b[0;34m)\u001b[0m\u001b[0;34m\u001b[0m\u001b[0m\n",
      "\u001b[0;31mFileNotFoundError\u001b[0m: [Errno 2] No such file or directory: 'relationships.json.html'"
     ]
    }
   ],
   "source": [
    "with open('relationships.json.html') as f: \n",
    "        d = json.loads(f.read())"
   ]
  },
  {
   "cell_type": "code",
   "execution_count": null,
   "metadata": {
    "collapsed": true
   },
   "outputs": [],
   "source": []
  }
 ],
 "metadata": {
  "kernelspec": {
   "display_name": "Python 3",
   "language": "python",
   "name": "python3"
  },
  "language_info": {
   "codemirror_mode": {
    "name": "ipython",
    "version": 3
   },
   "file_extension": ".py",
   "mimetype": "text/x-python",
   "name": "python",
   "nbconvert_exporter": "python",
   "pygments_lexer": "ipython3",
   "version": "3.6.1"
  }
 },
 "nbformat": 4,
 "nbformat_minor": 2
}
