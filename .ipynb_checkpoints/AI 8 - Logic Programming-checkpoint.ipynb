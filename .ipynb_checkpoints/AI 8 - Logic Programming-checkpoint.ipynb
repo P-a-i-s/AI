{
 "cells": [
  {
   "cell_type": "code",
   "execution_count": 1,
   "metadata": {
    "collapsed": true
   },
   "outputs": [],
   "source": [
    "#Kanren is for logic and relational programming\n",
    "from kanren import run, var, fact, membero, conde, Relation, facts"
   ]
  },
  {
   "cell_type": "code",
   "execution_count": 2,
   "metadata": {
    "collapsed": true
   },
   "outputs": [],
   "source": [
    "import kanren.assoccomm as la"
   ]
  },
  {
   "cell_type": "code",
   "execution_count": 4,
   "metadata": {
    "collapsed": true
   },
   "outputs": [],
   "source": [
    "# Define mathematical operations \n",
    "add = 'addition' \n",
    "mul = 'multiplication'"
   ]
  },
  {
   "cell_type": "code",
   "execution_count": 5,
   "metadata": {},
   "outputs": [],
   "source": [
    "#Declare that these ops are commutative\n",
    "#using fact systems\n",
    "fact(la.commutative, mul)\n",
    "fact(la.commutative, add) \n",
    "fact(la.associative, mul) \n",
    "fact(la.associative, add)"
   ]
  },
  {
   "cell_type": "code",
   "execution_count": 6,
   "metadata": {
    "collapsed": true
   },
   "outputs": [],
   "source": [
    "# Define some variables \n",
    "a, b, c = var('a'), var('b'), var('c')"
   ]
  },
  {
   "cell_type": "markdown",
   "metadata": {},
   "source": [
    "- expression_orig = 3 x (-2) + (1 + 2 x 3) x (-1)\n",
    "- expression1 = (1 + 2 x a) x b + 3 x c\n",
    "- expression2 = c x 3 + b x (2 x a + 1)\n",
    "- expression3 = (((2 x a) x b) + b) + 3 x c"
   ]
  },
  {
   "cell_type": "code",
   "execution_count": null,
   "metadata": {
    "collapsed": true
   },
   "outputs": [],
   "source": []
  }
 ],
 "metadata": {
  "kernelspec": {
   "display_name": "Python 3",
   "language": "python",
   "name": "python3"
  },
  "language_info": {
   "codemirror_mode": {
    "name": "ipython",
    "version": 3
   },
   "file_extension": ".py",
   "mimetype": "text/x-python",
   "name": "python",
   "nbconvert_exporter": "python",
   "pygments_lexer": "ipython3",
   "version": "3.6.1"
  }
 },
 "nbformat": 4,
 "nbformat_minor": 2
}
