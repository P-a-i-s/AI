{
 "cells": [
  {
   "cell_type": "markdown",
   "metadata": {},
   "source": [
    "\n",
    "### Mean Shift\n",
    "- Powerful unsupervised learning algo\n",
    "- Non-parameterized algo used for clustering\n",
    "- Goal of mean shift is to identify location of centroids"
   ]
  },
  {
   "cell_type": "code",
   "execution_count": 1,
   "metadata": {
    "collapsed": true
   },
   "outputs": [],
   "source": [
    "import numpy as np \n",
    "import matplotlib.pyplot as plt \n",
    "from sklearn.cluster import MeanShift, estimate_bandwidth \n",
    "from itertools import cycle \n",
    "%matplotlib inline"
   ]
  },
  {
   "cell_type": "code",
   "execution_count": 5,
   "metadata": {},
   "outputs": [],
   "source": [
    "X = np.loadtxt('/Users/apple/Documents/data-clustering1.txt', delimiter=',')"
   ]
  },
  {
   "cell_type": "code",
   "execution_count": 6,
   "metadata": {
    "collapsed": true
   },
   "outputs": [],
   "source": [
    "# Estimate the bandwidth of X \n",
    "bandwidth_X = estimate_bandwidth(X, quantile=0.1, n_samples=len(X))"
   ]
  },
  {
   "cell_type": "code",
   "execution_count": 7,
   "metadata": {},
   "outputs": [
    {
     "data": {
      "text/plain": [
       "MeanShift(bandwidth=1.3044799765090382, bin_seeding=True, cluster_all=True,\n",
       "     min_bin_freq=1, n_jobs=1, seeds=None)"
      ]
     },
     "execution_count": 7,
     "metadata": {},
     "output_type": "execute_result"
    }
   ],
   "source": [
    "# Cluster data with MeanShift \n",
    "meanshift_model = MeanShift(bandwidth=bandwidth_X, bin_seeding=True) \n",
    "meanshift_model.fit(X)"
   ]
  },
  {
   "cell_type": "code",
   "execution_count": 12,
   "metadata": {},
   "outputs": [
    {
     "name": "stdout",
     "output_type": "stream",
     "text": [
      "\n",
      "Centers of clusters:\n",
      " [[ 2.95568966  1.95775862]\n",
      " [ 7.17563636  2.18145455]\n",
      " [ 2.17603774  8.03283019]\n",
      " [ 5.97960784  8.39078431]\n",
      " [ 4.81044444  5.07111111]]\n"
     ]
    }
   ],
   "source": [
    "# Extract the centers of clusters \n",
    "cluster_centers = meanshift_model.cluster_centers_ \n",
    "print('\\nCenters of clusters:\\n', cluster_centers)"
   ]
  },
  {
   "cell_type": "code",
   "execution_count": 13,
   "metadata": {},
   "outputs": [
    {
     "name": "stdout",
     "output_type": "stream",
     "text": [
      "\n",
      "Number of clusters in input data = 5\n"
     ]
    },
    {
     "data": {
      "image/png": "[encoded data removed]",
      "text/plain": [
       "<matplotlib.figure.Figure at 0x11aa91c18>"
      ]
     },
     "metadata": {},
     "output_type": "display_data"
    }
   ],
   "source": [
    "# Estimate the number of clusters \n",
    "labels = meanshift_model.labels_ \n",
    "num_clusters = len(np.unique(labels)) \n",
    "print(\"\\nNumber of clusters in input data =\", num_clusters)\n",
    "\n",
    "\n",
    "# Plot the points and cluster centers \n",
    "plt.figure() \n",
    "markers = 'o*xvs' \n",
    "for i, marker in zip(range(num_clusters), markers): \n",
    "    # Plot points that belong to the current cluster \n",
    "    plt.scatter(X[labels==i, 0], X[labels==i, 1], marker=marker, color='green') \n",
    "    # Plot the cluster center \n",
    "    cluster_center = cluster_centers[i] \n",
    "    plt.plot(cluster_center[0], cluster_center[1], marker='o',  \n",
    "            markerfacecolor='black', markeredgecolor='black',  \n",
    "            markersize=15) \n",
    " \n",
    "plt.title('Clusters') \n",
    "plt.show()"
   ]
  },
  {
   "cell_type": "code",
   "execution_count": 14,
   "metadata": {},
   "outputs": [
    {
     "data": {
      "text/plain": [
       "array([0])"
      ]
     },
     "execution_count": 14,
     "metadata": {},
     "output_type": "execute_result"
    }
   ],
   "source": [
    "meanshift_model.predict([[2.95568966 , 1.95775862]])"
   ]
  },
  {
   "cell_type": "code",
   "execution_count": 15,
   "metadata": {
    "collapsed": true
   },
   "outputs": [],
   "source": [
    "S = meanshift_model.predict(X)"
   ]
  },
  {
   "cell_type": "code",
   "execution_count": 16,
   "metadata": {},
   "outputs": [
    {
     "name": "stdout",
     "output_type": "stream",
     "text": [
      "[ 2.08  1.05]\n",
      "[ 2.88  0.79]\n",
      "[ 3.41  2.05]\n",
      "[ 3.66  2.38]\n",
      "[ 2.2   2.71]\n",
      "[ 4.57  1.33]\n",
      "[ 3.4  1. ]\n",
      "[ 2.94  1.78]\n",
      "[ 3.71  1.26]\n",
      "[ 3.23  2.64]\n",
      "[ 1.53  2.93]\n",
      "[ 3.27  1.63]\n",
      "[ 2.51  2.84]\n",
      "[ 2.65  2.46]\n",
      "[ 2.72  1.67]\n",
      "[ 3.25  2.99]\n",
      "[ 1.98  1.96]\n",
      "[ 2.93  2.61]\n",
      "[ 2.89  2.36]\n",
      "[ 2.38  2.42]\n",
      "[ 2.37  0.62]\n",
      "[ 2.91  2.16]\n",
      "[ 4.13  1.76]\n",
      "[ 3.89  3.09]\n",
      "[ 2.8   1.41]\n",
      "[ 2.94  2.23]\n",
      "[ 1.78  2.  ]\n",
      "[ 2.97  0.43]\n",
      "[ 2.21  1.08]\n",
      "[ 3.92  1.94]\n",
      "[ 2.47  1.18]\n",
      "[ 3.47  2.11]\n",
      "[ 2.38  3.12]\n",
      "[ 2.64  2.08]\n",
      "[ 2.18  2.97]\n",
      "[ 3.62  1.02]\n",
      "[ 2.9   2.19]\n",
      "[ 4.1   1.18]\n",
      "[ 2.73  0.95]\n",
      "[ 1.72  2.47]\n",
      "[ 2.24  1.06]\n",
      "[ 2.95  0.95]\n",
      "[ 3.06  1.76]\n",
      "[ 4.13  1.52]\n",
      "[ 2.43  2.99]\n",
      "[ 3.15  3.19]\n",
      "[ 3.13  2.67]\n",
      "[ 3.25  1.56]\n",
      "[ 4.05  3.39]\n",
      "[ 3.12  1.8 ]\n",
      "[ 3.35  2.25]\n",
      "[ 2.97  1.6 ]\n",
      "[ 2.66  1.65]\n",
      "[ 3.4   2.29]\n",
      "[ 2.69  0.11]\n",
      "[ 2.75  1.54]\n",
      "[ 1.71  1.31]\n",
      "[ 2.47  1.52]\n",
      "[ 2.74  2.14]\n",
      "[ 3.53  1.11]\n",
      "[ 3.43  3.32]\n",
      "[ 3.47  3.03]\n",
      "[ 3.    2.39]\n",
      "[ 2.    3.45]\n",
      "[ 4.21  2.23]\n",
      "[ 3.37  1.42]\n",
      "[ 2.51  1.51]\n",
      "[ 3.23  1.37]\n",
      "[ 2.22  2.23]\n",
      "[ 4.59  2.88]\n",
      "[ 2.92  2.97]\n"
     ]
    }
   ],
   "source": [
    "for i,d in enumerate(S):\n",
    "    if d == 0:\n",
    "        print(X[i])"
   ]
  },
  {
   "cell_type": "code",
   "execution_count": null,
   "metadata": {
    "collapsed": true
   },
   "outputs": [],
   "source": []
  }
 ],
 "metadata": {
  "kernelspec": {
   "display_name": "Python 3",
   "language": "python",
   "name": "python3"
  },
  "language_info": {
   "codemirror_mode": {
    "name": "ipython",
    "version": 3
   },
   "file_extension": ".py",
   "mimetype": "text/x-python",
   "name": "python",
   "nbconvert_exporter": "python",
   "pygments_lexer": "ipython3",
   "version": "3.6.1"
  }
 },
 "nbformat": 4,
 "nbformat_minor": 2
}
